{
  "nbformat": 4,
  "nbformat_minor": 0,
  "metadata": {
    "colab": {
      "name": "Abstractive_Text_Summarization.ipynb",
      "provenance": [],
      "collapsed_sections": []
    },
    "language_info": {
      "name": "python",
      "version": "3.6.4",
      "mimetype": "text/x-python",
      "codemirror_mode": {
        "name": "ipython",
        "version": 3
      },
      "pygments_lexer": "ipython3",
      "nbconvert_exporter": "python",
      "file_extension": ".py"
    },
    "kernelspec": {
      "display_name": "Python 3",
      "language": "python",
      "name": "python3"
    },
    "accelerator": "GPU"
  },
  "cells": [
    {
      "cell_type": "markdown",
      "metadata": {
        "id": "JUValOzcHtEK"
      },
      "source": [
        "#Import the Libraries"
      ]
    },
    {
      "cell_type": "code",
      "metadata": {
        "id": "lb92gtYx-3EI"
      },
      "source": [
        "# install rouge-score library\n",
        "!pip install -q rouge-score"
      ],
      "execution_count": null,
      "outputs": []
    },
    {
      "cell_type": "code",
      "metadata": {
        "colab": {
          "base_uri": "https://localhost:8080/"
        },
        "id": "eB9YfOJWgw7C",
        "outputId": "c466ec95-c4e4-4dbe-caaf-65a14f53f060"
      },
      "source": [
        "# install contractions library\n",
        "!pip install -q contractions"
      ],
      "execution_count": null,
      "outputs": [
        {
          "output_type": "stream",
          "text": [
            "\u001b[K     |████████████████████████████████| 286kB 8.5MB/s \n",
            "\u001b[K     |████████████████████████████████| 327kB 12.7MB/s \n",
            "\u001b[?25h  Building wheel for pyahocorasick (setup.py) ... \u001b[?25l\u001b[?25hdone\n"
          ],
          "name": "stdout"
        }
      ]
    },
    {
      "cell_type": "code",
      "metadata": {
        "_uuid": "8f2839f25d086af736a60e9eeb907d3b93b6e0e5",
        "_cell_guid": "b1076dfc-b9ad-4769-8c92-a6c4dae69d19",
        "trusted": true,
        "id": "_Jpu8qLEFxcY",
        "colab": {
          "base_uri": "https://localhost:8080/"
        },
        "outputId": "9c10bc49-fb1d-4dc2-c6cf-6a3ec9a35fe5"
      },
      "source": [
        "import numpy as np\n",
        "import pandas as pd \n",
        "import re\n",
        "from tensorflow.keras.preprocessing.text import Tokenizer \n",
        "from tensorflow.keras.preprocessing.sequence import pad_sequences\n",
        "from nltk.corpus import stopwords\n",
        "from tensorflow.keras.layers import Input, LSTM, Embedding, Dense, Concatenate, TimeDistributed\n",
        "from tensorflow.keras.models import Model\n",
        "from tensorflow.keras.callbacks import EarlyStopping\n",
        "import nltk\n",
        "from google.colab import files\n",
        "import matplotlib.pyplot as plt\n",
        "from sklearn.model_selection import train_test_split\n",
        "nltk.download('stopwords')\n",
        "pd.set_option(\"display.max_colwidth\", 200)"
      ],
      "execution_count": null,
      "outputs": [
        {
          "output_type": "stream",
          "text": [
            "[nltk_data] Downloading package stopwords to /root/nltk_data...\n",
            "[nltk_data]   Unzipping corpora/stopwords.zip.\n"
          ],
          "name": "stdout"
        }
      ]
    },
    {
      "cell_type": "markdown",
      "metadata": {
        "id": "UVakjZ3oICgx"
      },
      "source": [
        "# Amazon Fine Food Reviews Dataset:\n",
        "This dataset consists of reviews on food products. For each review the customer writes a long review, and a short concise summary about his review. We will download the dataset from Kaggle using the Kaggle API."
      ]
    },
    {
      "cell_type": "code",
      "metadata": {
        "colab": {
          "resources": {
            "http://localhost:8080/nbextensions/google.colab/files.js": {
              "data": "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",
              "ok": true,
              "headers": [
                [
                  "content-type",
                  "application/javascript"
                ]
              ],
              "status": 200,
              "status_text": ""
            }
          },
          "base_uri": "https://localhost:8080/",
          "height": 89
        },
        "id": "JgC3oOFFfCv0",
        "outputId": "3f2a412f-38e5-4ec8-c0af-fc462a1eccd7"
      },
      "source": [
        "# upload the kaggle.json API file\n",
        "files.upload()"
      ],
      "execution_count": null,
      "outputs": [
        {
          "output_type": "display_data",
          "data": {
            "text/html": [
              "\n",
              "     <input type=\"file\" id=\"files-8863d58e-7e95-4ee0-9c27-83d2b1bacc44\" name=\"files[]\" multiple disabled\n",
              "        style=\"border:none\" />\n",
              "     <output id=\"result-8863d58e-7e95-4ee0-9c27-83d2b1bacc44\">\n",
              "      Upload widget is only available when the cell has been executed in the\n",
              "      current browser session. Please rerun this cell to enable.\n",
              "      </output>\n",
              "      <script src=\"/nbextensions/google.colab/files.js\"></script> "
            ],
            "text/plain": [
              "<IPython.core.display.HTML object>"
            ]
          },
          "metadata": {
            "tags": []
          }
        },
        {
          "output_type": "stream",
          "text": [
            "Saving kaggle.json to kaggle.json\n"
          ],
          "name": "stdout"
        },
        {
          "output_type": "execute_result",
          "data": {
            "text/plain": [
              "{'kaggle.json': b'{\"username\":\"shaffei\",\"key\":\"1c13d86e3bc149176fdb5ffbba3989a1\"}'}"
            ]
          },
          "metadata": {
            "tags": []
          },
          "execution_count": 4
        }
      ]
    },
    {
      "cell_type": "code",
      "metadata": {
        "trusted": true,
        "id": "wnK5o4Z1Fxcj"
      },
      "source": [
        "# copy the json file to where the API expects \n",
        "! cp kaggle.json ~/.kaggle/\n",
        "# change the permission of the json file\n",
        "! chmod 600 ~/.kaggle/kaggle.json"
      ],
      "execution_count": null,
      "outputs": []
    },
    {
      "cell_type": "code",
      "metadata": {
        "colab": {
          "base_uri": "https://localhost:8080/"
        },
        "id": "nK91F7zNf0Z1",
        "outputId": "ae0f318c-e27c-4c12-bc1a-7465c9e4000b"
      },
      "source": [
        "# download the dataset\n",
        "!kaggle datasets download -d snap/amazon-fine-food-reviews"
      ],
      "execution_count": null,
      "outputs": [
        {
          "output_type": "stream",
          "text": [
            "Downloading amazon-fine-food-reviews.zip to /content\n",
            " 93% 226M/242M [00:01<00:00, 127MB/s]\n",
            "100% 242M/242M [00:01<00:00, 140MB/s]\n"
          ],
          "name": "stdout"
        }
      ]
    },
    {
      "cell_type": "code",
      "metadata": {
        "id": "kAfBOmEcf70U"
      },
      "source": [
        "# extract the dataset\n",
        "!unzip -q amazon-fine-food-reviews.zip"
      ],
      "execution_count": null,
      "outputs": []
    },
    {
      "cell_type": "code",
      "metadata": {
        "id": "4MppONkngD47"
      },
      "source": [
        "# read the data\n",
        "df = pd.read_csv('Reviews.csv')"
      ],
      "execution_count": null,
      "outputs": []
    },
    {
      "cell_type": "markdown",
      "metadata": {
        "id": "_CeQeiwrfaU6"
      },
      "source": [
        "## Take a look at the dataset"
      ]
    },
    {
      "cell_type": "code",
      "metadata": {
        "colab": {
          "base_uri": "https://localhost:8080/",
          "height": 884
        },
        "id": "qU-GcOQUgULY",
        "outputId": "79e88a9b-1559-457e-bfc4-04faf1b3a64b"
      },
      "source": [
        "df.head()"
      ],
      "execution_count": null,
      "outputs": [
        {
          "output_type": "execute_result",
          "data": {
            "text/html": [
              "<div>\n",
              "<style scoped>\n",
              "    .dataframe tbody tr th:only-of-type {\n",
              "        vertical-align: middle;\n",
              "    }\n",
              "\n",
              "    .dataframe tbody tr th {\n",
              "        vertical-align: top;\n",
              "    }\n",
              "\n",
              "    .dataframe thead th {\n",
              "        text-align: right;\n",
              "    }\n",
              "</style>\n",
              "<table border=\"1\" class=\"dataframe\">\n",
              "  <thead>\n",
              "    <tr style=\"text-align: right;\">\n",
              "      <th></th>\n",
              "      <th>Id</th>\n",
              "      <th>ProductId</th>\n",
              "      <th>UserId</th>\n",
              "      <th>ProfileName</th>\n",
              "      <th>HelpfulnessNumerator</th>\n",
              "      <th>HelpfulnessDenominator</th>\n",
              "      <th>Score</th>\n",
              "      <th>Time</th>\n",
              "      <th>Summary</th>\n",
              "      <th>Text</th>\n",
              "    </tr>\n",
              "  </thead>\n",
              "  <tbody>\n",
              "    <tr>\n",
              "      <th>0</th>\n",
              "      <td>1</td>\n",
              "      <td>B001E4KFG0</td>\n",
              "      <td>A3SGXH7AUHU8GW</td>\n",
              "      <td>delmartian</td>\n",
              "      <td>1</td>\n",
              "      <td>1</td>\n",
              "      <td>5</td>\n",
              "      <td>1303862400</td>\n",
              "      <td>Good Quality Dog Food</td>\n",
              "      <td>I have bought several of the Vitality canned dog food products and have found them all to be of good quality. The product looks more like a stew than a processed meat and it smells better. My Labr...</td>\n",
              "    </tr>\n",
              "    <tr>\n",
              "      <th>1</th>\n",
              "      <td>2</td>\n",
              "      <td>B00813GRG4</td>\n",
              "      <td>A1D87F6ZCVE5NK</td>\n",
              "      <td>dll pa</td>\n",
              "      <td>0</td>\n",
              "      <td>0</td>\n",
              "      <td>1</td>\n",
              "      <td>1346976000</td>\n",
              "      <td>Not as Advertised</td>\n",
              "      <td>Product arrived labeled as Jumbo Salted Peanuts...the peanuts were actually small sized unsalted. Not sure if this was an error or if the vendor intended to represent the product as \"Jumbo\".</td>\n",
              "    </tr>\n",
              "    <tr>\n",
              "      <th>2</th>\n",
              "      <td>3</td>\n",
              "      <td>B000LQOCH0</td>\n",
              "      <td>ABXLMWJIXXAIN</td>\n",
              "      <td>Natalia Corres \"Natalia Corres\"</td>\n",
              "      <td>1</td>\n",
              "      <td>1</td>\n",
              "      <td>4</td>\n",
              "      <td>1219017600</td>\n",
              "      <td>\"Delight\" says it all</td>\n",
              "      <td>This is a confection that has been around a few centuries.  It is a light, pillowy citrus gelatin with nuts - in this case Filberts. And it is cut into tiny squares and then liberally coated with ...</td>\n",
              "    </tr>\n",
              "    <tr>\n",
              "      <th>3</th>\n",
              "      <td>4</td>\n",
              "      <td>B000UA0QIQ</td>\n",
              "      <td>A395BORC6FGVXV</td>\n",
              "      <td>Karl</td>\n",
              "      <td>3</td>\n",
              "      <td>3</td>\n",
              "      <td>2</td>\n",
              "      <td>1307923200</td>\n",
              "      <td>Cough Medicine</td>\n",
              "      <td>If you are looking for the secret ingredient in Robitussin I believe I have found it.  I got this in addition to the Root Beer Extract I ordered (which was good) and made some cherry soda.  The fl...</td>\n",
              "    </tr>\n",
              "    <tr>\n",
              "      <th>4</th>\n",
              "      <td>5</td>\n",
              "      <td>B006K2ZZ7K</td>\n",
              "      <td>A1UQRSCLF8GW1T</td>\n",
              "      <td>Michael D. Bigham \"M. Wassir\"</td>\n",
              "      <td>0</td>\n",
              "      <td>0</td>\n",
              "      <td>5</td>\n",
              "      <td>1350777600</td>\n",
              "      <td>Great taffy</td>\n",
              "      <td>Great taffy at a great price.  There was a wide assortment of yummy taffy.  Delivery was very quick.  If your a taffy lover, this is a deal.</td>\n",
              "    </tr>\n",
              "  </tbody>\n",
              "</table>\n",
              "</div>"
            ],
            "text/plain": [
              "   Id  ...                                                                                                                                                                                                     Text\n",
              "0   1  ...  I have bought several of the Vitality canned dog food products and have found them all to be of good quality. The product looks more like a stew than a processed meat and it smells better. My Labr...\n",
              "1   2  ...           Product arrived labeled as Jumbo Salted Peanuts...the peanuts were actually small sized unsalted. Not sure if this was an error or if the vendor intended to represent the product as \"Jumbo\".\n",
              "2   3  ...  This is a confection that has been around a few centuries.  It is a light, pillowy citrus gelatin with nuts - in this case Filberts. And it is cut into tiny squares and then liberally coated with ...\n",
              "3   4  ...  If you are looking for the secret ingredient in Robitussin I believe I have found it.  I got this in addition to the Root Beer Extract I ordered (which was good) and made some cherry soda.  The fl...\n",
              "4   5  ...                                                             Great taffy at a great price.  There was a wide assortment of yummy taffy.  Delivery was very quick.  If your a taffy lover, this is a deal.\n",
              "\n",
              "[5 rows x 10 columns]"
            ]
          },
          "metadata": {
            "tags": []
          },
          "execution_count": 235
        }
      ]
    },
    {
      "cell_type": "markdown",
      "metadata": {
        "id": "ZAffoqSZfkku"
      },
      "source": [
        "## Drop duplicate rows and/or missing values"
      ]
    },
    {
      "cell_type": "code",
      "metadata": {
        "trusted": true,
        "id": "Cjul88oOFxcr"
      },
      "source": [
        "df.drop_duplicates(subset=['Text'],inplace=True)\n",
        "df.dropna(axis=0,inplace=True)"
      ],
      "execution_count": null,
      "outputs": []
    },
    {
      "cell_type": "markdown",
      "metadata": {
        "id": "qi0xD6BkIWAm"
      },
      "source": [
        "## Now let's inspect the dataset"
      ]
    },
    {
      "cell_type": "code",
      "metadata": {
        "trusted": true,
        "id": "__fy-JxTFxc9",
        "colab": {
          "base_uri": "https://localhost:8080/"
        },
        "outputId": "f991e8f6-310d-4966-eed4-6baf105e2dca"
      },
      "source": [
        "df.info()"
      ],
      "execution_count": null,
      "outputs": [
        {
          "output_type": "stream",
          "text": [
            "<class 'pandas.core.frame.DataFrame'>\n",
            "Int64Index: 393565 entries, 0 to 568453\n",
            "Data columns (total 10 columns):\n",
            " #   Column                  Non-Null Count   Dtype \n",
            "---  ------                  --------------   ----- \n",
            " 0   Id                      393565 non-null  int64 \n",
            " 1   ProductId               393565 non-null  object\n",
            " 2   UserId                  393565 non-null  object\n",
            " 3   ProfileName             393565 non-null  object\n",
            " 4   HelpfulnessNumerator    393565 non-null  int64 \n",
            " 5   HelpfulnessDenominator  393565 non-null  int64 \n",
            " 6   Score                   393565 non-null  int64 \n",
            " 7   Time                    393565 non-null  int64 \n",
            " 8   Summary                 393565 non-null  object\n",
            " 9   Text                    393565 non-null  object\n",
            "dtypes: int64(5), object(5)\n",
            "memory usage: 33.0+ MB\n"
          ],
          "name": "stdout"
        }
      ]
    },
    {
      "cell_type": "markdown",
      "metadata": {
        "id": "r0xLYACiFxdJ"
      },
      "source": [
        "# Preprocessing"
      ]
    },
    {
      "cell_type": "markdown",
      "metadata": {
        "id": "4xhqwX8Jf2_P"
      },
      "source": [
        "## First of all the dataset contains aroud 400,000 training examples which is very huge, and will make training very slow. We will only use 100,000 training examples. "
      ]
    },
    {
      "cell_type": "code",
      "metadata": {
        "id": "SWU7xqycgYTz"
      },
      "source": [
        "# take a copy from the original dataset and clean it\n",
        "df_clean = df.copy()"
      ],
      "execution_count": null,
      "outputs": []
    },
    {
      "cell_type": "code",
      "metadata": {
        "id": "CFNyn5Rvgfjg"
      },
      "source": [
        "# include only 100,000 training examples\n",
        "max_examples = 100000\n",
        "df_clean = df_clean[:max_examples]"
      ],
      "execution_count": null,
      "outputs": []
    },
    {
      "cell_type": "markdown",
      "metadata": {
        "id": "esHJIjc5hNBa"
      },
      "source": [
        "## We will only include the review and summary columns and drop other columns"
      ]
    },
    {
      "cell_type": "code",
      "metadata": {
        "colab": {
          "base_uri": "https://localhost:8080/"
        },
        "id": "xsk2NEjwhMfk",
        "outputId": "a53853b1-414f-4ae6-f487-bf553080b738"
      },
      "source": [
        "for column in df_clean.columns:\n",
        "  if column not in ['Text', 'Summary']:\n",
        "    df_clean.drop(columns=column, inplace=True)\n",
        "\n",
        "df_clean.info()"
      ],
      "execution_count": null,
      "outputs": [
        {
          "output_type": "stream",
          "text": [
            "<class 'pandas.core.frame.DataFrame'>\n",
            "Int64Index: 100000 entries, 0 to 114551\n",
            "Data columns (total 2 columns):\n",
            " #   Column   Non-Null Count   Dtype \n",
            "---  ------   --------------   ----- \n",
            " 0   Summary  100000 non-null  object\n",
            " 1   Text     100000 non-null  object\n",
            "dtypes: object(2)\n",
            "memory usage: 4.8+ MB\n"
          ],
          "name": "stdout"
        }
      ]
    },
    {
      "cell_type": "markdown",
      "metadata": {
        "id": "2JFRXFHmI7Mj"
      },
      "source": [
        "## We will perform the below preprocessing tasks for our data:\n",
        "\n",
        "1.Normalize all characters to lowercase\n",
        "\n",
        "2.Expanding contractions\n",
        "\n",
        "3.Remove (‘s)\n",
        "\n",
        "4.Remove any text inside the parenthesis ( )\n",
        "\n",
        "5.Eliminate punctuations and special characters\n",
        "\n",
        "6.Remove stopwords"
      ]
    },
    {
      "cell_type": "markdown",
      "metadata": {
        "id": "2kBxu2Y1g2RG"
      },
      "source": [
        "## We expand the contractions to allow the model to learn the same representation for words with the same meaning but with/without contractions"
      ]
    },
    {
      "cell_type": "code",
      "metadata": {
        "id": "2P3vYwtVhGAF"
      },
      "source": [
        "import contractions\n",
        "\n",
        "def expand_text(df):\n",
        "  for col in df.columns:\n",
        "    df[col] = df[col].apply(contractions.fix) # fix contractions for each column"
      ],
      "execution_count": null,
      "outputs": []
    },
    {
      "cell_type": "code",
      "metadata": {
        "colab": {
          "base_uri": "https://localhost:8080/",
          "height": 272
        },
        "id": "hqoVSxsCiGa5",
        "outputId": "35852593-cd3b-4ee6-d3c9-b330e13fa6a7"
      },
      "source": [
        "expand_text(df_clean) # fix contraction for the dataset\n",
        "df_clean.head()  # take a look at the dataset after contractions fixing"
      ],
      "execution_count": null,
      "outputs": [
        {
          "output_type": "execute_result",
          "data": {
            "text/html": [
              "<div>\n",
              "<style scoped>\n",
              "    .dataframe tbody tr th:only-of-type {\n",
              "        vertical-align: middle;\n",
              "    }\n",
              "\n",
              "    .dataframe tbody tr th {\n",
              "        vertical-align: top;\n",
              "    }\n",
              "\n",
              "    .dataframe thead th {\n",
              "        text-align: right;\n",
              "    }\n",
              "</style>\n",
              "<table border=\"1\" class=\"dataframe\">\n",
              "  <thead>\n",
              "    <tr style=\"text-align: right;\">\n",
              "      <th></th>\n",
              "      <th>Summary</th>\n",
              "      <th>Text</th>\n",
              "    </tr>\n",
              "  </thead>\n",
              "  <tbody>\n",
              "    <tr>\n",
              "      <th>0</th>\n",
              "      <td>Good Quality Dog Food</td>\n",
              "      <td>I have bought several of the Vitality canned dog food products and have found them all to be of good quality. The product looks more like a stew than a processed meat and it smells better. My Labr...</td>\n",
              "    </tr>\n",
              "    <tr>\n",
              "      <th>1</th>\n",
              "      <td>Not as Advertised</td>\n",
              "      <td>Product arrived labeled as Jumbo Salted Peanuts...the peanuts were actually small sized unsalted. Not sure if this was an error or if the vendor intended to represent the product as \"Jumbo\".</td>\n",
              "    </tr>\n",
              "    <tr>\n",
              "      <th>2</th>\n",
              "      <td>\"Delight\" says it all</td>\n",
              "      <td>This is a confection that has been around a few centuries.  It is a light, pillowy citrus gelatin with nuts - in this case Filberts. And it is cut into tiny squares and then liberally coated with ...</td>\n",
              "    </tr>\n",
              "    <tr>\n",
              "      <th>3</th>\n",
              "      <td>Cough Medicine</td>\n",
              "      <td>If you are looking for the secret ingredient in Robitussin I believe I have found it.  I got this in addition to the Root Beer Extract I ordered (which was good) and made some cherry soda.  The fl...</td>\n",
              "    </tr>\n",
              "    <tr>\n",
              "      <th>4</th>\n",
              "      <td>Great taffy</td>\n",
              "      <td>Great taffy at a great price.  There was a wide assortment of yummy taffy.  Delivery was very quick.  If your a taffy lover, this is a deal.</td>\n",
              "    </tr>\n",
              "  </tbody>\n",
              "</table>\n",
              "</div>"
            ],
            "text/plain": [
              "                 Summary                                                                                                                                                                                                     Text\n",
              "0  Good Quality Dog Food  I have bought several of the Vitality canned dog food products and have found them all to be of good quality. The product looks more like a stew than a processed meat and it smells better. My Labr...\n",
              "1      Not as Advertised           Product arrived labeled as Jumbo Salted Peanuts...the peanuts were actually small sized unsalted. Not sure if this was an error or if the vendor intended to represent the product as \"Jumbo\".\n",
              "2  \"Delight\" says it all  This is a confection that has been around a few centuries.  It is a light, pillowy citrus gelatin with nuts - in this case Filberts. And it is cut into tiny squares and then liberally coated with ...\n",
              "3         Cough Medicine  If you are looking for the secret ingredient in Robitussin I believe I have found it.  I got this in addition to the Root Beer Extract I ordered (which was good) and made some cherry soda.  The fl...\n",
              "4            Great taffy                                                             Great taffy at a great price.  There was a wide assortment of yummy taffy.  Delivery was very quick.  If your a taffy lover, this is a deal."
            ]
          },
          "metadata": {
            "tags": []
          },
          "execution_count": 28
        }
      ]
    },
    {
      "cell_type": "code",
      "metadata": {
        "trusted": true,
        "id": "XZr-u3OEFxdT"
      },
      "source": [
        "def clean_text(df, column, remove_stopwords = True):\n",
        "  '''\n",
        "  Clean the text in the giveon column \n",
        "  '''\n",
        "  # normalize all characters to lowercase\n",
        "  df[column] = df[column].str.lower()\n",
        "  # remove any text between parenthes and the parenthes\n",
        "  df[column] = df[column].apply(lambda text: re.sub(r'\\([^)]*\\)', '', text))\n",
        "  # remove any 's used for possession\n",
        "  df[column] = df[column].apply(lambda text: re.sub(r\"'s\\b\",\"\",text))\n",
        "  # replace any punctuation by a whitespace\n",
        "  df[column] = df[column].apply(lambda text: re.sub(r\"[^a-zA-Z1-9 ]\", \" \", text))\n",
        "  if remove_stopwords:\n",
        "    # create a set of stopwords\n",
        "    stop_words = set(nltk.corpus.stopwords.words('english')) \n",
        "    # remove stopwords\n",
        "    df[column] = df[column].apply(lambda text: \" \".join([w for w in text.split() if w not in stop_words]))\n",
        "  # finally strip all articles from any leading or trailing whitespaces\n",
        "  df[column] = df[column].str.strip()"
      ],
      "execution_count": null,
      "outputs": []
    },
    {
      "cell_type": "code",
      "metadata": {
        "trusted": true,
        "id": "A2QAeCHWFxdY",
        "colab": {
          "base_uri": "https://localhost:8080/",
          "height": 238
        },
        "outputId": "223a07de-b8cc-4ee8-b20f-b3d58ff6c970"
      },
      "source": [
        "# clean text in reviews\n",
        "clean_text(df_clean, 'Text')\n",
        "# clean text in summaries\n",
        "clean_text(df_clean, 'Summary', False)\n",
        "\n",
        "df_clean.head()"
      ],
      "execution_count": null,
      "outputs": [
        {
          "output_type": "execute_result",
          "data": {
            "text/html": [
              "<div>\n",
              "<style scoped>\n",
              "    .dataframe tbody tr th:only-of-type {\n",
              "        vertical-align: middle;\n",
              "    }\n",
              "\n",
              "    .dataframe tbody tr th {\n",
              "        vertical-align: top;\n",
              "    }\n",
              "\n",
              "    .dataframe thead th {\n",
              "        text-align: right;\n",
              "    }\n",
              "</style>\n",
              "<table border=\"1\" class=\"dataframe\">\n",
              "  <thead>\n",
              "    <tr style=\"text-align: right;\">\n",
              "      <th></th>\n",
              "      <th>Summary</th>\n",
              "      <th>Text</th>\n",
              "    </tr>\n",
              "  </thead>\n",
              "  <tbody>\n",
              "    <tr>\n",
              "      <th>0</th>\n",
              "      <td>good quality dog food</td>\n",
              "      <td>bought several vitality canned dog food products found good quality product looks like stew processed meat smells better labrador finicky appreciates product better</td>\n",
              "    </tr>\n",
              "    <tr>\n",
              "      <th>1</th>\n",
              "      <td>not as advertised</td>\n",
              "      <td>product arrived labeled jumbo salted peanuts peanuts actually small sized unsalted sure error vendor intended represent product jumbo</td>\n",
              "    </tr>\n",
              "    <tr>\n",
              "      <th>2</th>\n",
              "      <td>delight  says it all</td>\n",
              "      <td>confection around centuries light pillowy citrus gelatin nuts case filberts cut tiny squares liberally coated powdered sugar tiny mouthful heaven chewy flavorful highly recommend yummy treat famil...</td>\n",
              "    </tr>\n",
              "    <tr>\n",
              "      <th>3</th>\n",
              "      <td>cough medicine</td>\n",
              "      <td>looking secret ingredient robitussin believe found got addition root beer extract ordered made cherry soda flavor medicinal</td>\n",
              "    </tr>\n",
              "    <tr>\n",
              "      <th>4</th>\n",
              "      <td>great taffy</td>\n",
              "      <td>great taffy great price wide assortment yummy taffy delivery quick taffy lover deal</td>\n",
              "    </tr>\n",
              "  </tbody>\n",
              "</table>\n",
              "</div>"
            ],
            "text/plain": [
              "                 Summary                                                                                                                                                                                                     Text\n",
              "0  good quality dog food                                     bought several vitality canned dog food products found good quality product looks like stew processed meat smells better labrador finicky appreciates product better\n",
              "1      not as advertised                                                                    product arrived labeled jumbo salted peanuts peanuts actually small sized unsalted sure error vendor intended represent product jumbo\n",
              "2   delight  says it all  confection around centuries light pillowy citrus gelatin nuts case filberts cut tiny squares liberally coated powdered sugar tiny mouthful heaven chewy flavorful highly recommend yummy treat famil...\n",
              "3         cough medicine                                                                              looking secret ingredient robitussin believe found got addition root beer extract ordered made cherry soda flavor medicinal\n",
              "4            great taffy                                                                                                                      great taffy great price wide assortment yummy taffy delivery quick taffy lover deal"
            ]
          },
          "metadata": {
            "tags": []
          },
          "execution_count": 32
        }
      ]
    },
    {
      "cell_type": "markdown",
      "metadata": {
        "id": "KT_D2cLiLy77"
      },
      "source": [
        "## Drop empty rows which happen when the cleaning process removes all words in the "
      ]
    },
    {
      "cell_type": "code",
      "metadata": {
        "trusted": true,
        "id": "sYK390unFxfA",
        "colab": {
          "base_uri": "https://localhost:8080/"
        },
        "outputId": "60adebaa-2479-4301-ec3b-a8517756c5cd"
      },
      "source": [
        "# check if any row in the text contains no words\n",
        "df_clean.Text.str.len().min()"
      ],
      "execution_count": null,
      "outputs": [
        {
          "output_type": "execute_result",
          "data": {
            "text/plain": [
              "12"
            ]
          },
          "metadata": {
            "tags": []
          },
          "execution_count": 35
        }
      ]
    },
    {
      "cell_type": "code",
      "metadata": {
        "colab": {
          "base_uri": "https://localhost:8080/"
        },
        "id": "Yi0uGyHSlQhB",
        "outputId": "d8aa2919-7949-480d-a6d7-a8f1e0ff8964"
      },
      "source": [
        "# check if any row in the Summaries contains no words\n",
        "df_clean.Summary.str.len().min()"
      ],
      "execution_count": null,
      "outputs": [
        {
          "output_type": "execute_result",
          "data": {
            "text/plain": [
              "0"
            ]
          },
          "metadata": {
            "tags": []
          },
          "execution_count": 36
        }
      ]
    },
    {
      "cell_type": "code",
      "metadata": {
        "colab": {
          "base_uri": "https://localhost:8080/"
        },
        "id": "3GJpgekPlXRv",
        "outputId": "09c1cd46-24fe-4b85-b2e9-00a748cfce95"
      },
      "source": [
        "# Remove rows with empty summaries\n",
        "df_clean = df_clean.drop(df_clean[df_clean.Summary.str.len() == 0].index)\n",
        "# validate\n",
        "df_clean.Summary.str.len().min()"
      ],
      "execution_count": null,
      "outputs": [
        {
          "output_type": "execute_result",
          "data": {
            "text/plain": [
              "1"
            ]
          },
          "metadata": {
            "tags": []
          },
          "execution_count": 38
        }
      ]
    },
    {
      "cell_type": "markdown",
      "metadata": {
        "id": "ChLgCbmWl2v7"
      },
      "source": [
        "## We need to fix a certain length for all reviews, and a fixed length for all summaries. To do so we start inspecing the length distribution of reviews and summaries"
      ]
    },
    {
      "cell_type": "code",
      "metadata": {
        "trusted": true,
        "id": "7JRjwdIOFxg3",
        "colab": {
          "base_uri": "https://localhost:8080/"
        },
        "outputId": "8fdd7f72-d655-4829-965c-9f9493cacf0c"
      },
      "source": [
        "# get an idea of the reviews lengths\n",
        "max_review_len = df_clean.Text.str.len().max()\n",
        "avg_review_len = df_clean.Text.str.len().mean()\n",
        "median_review_len = df_clean.Text.str.len().median()\n",
        "\n",
        "print(\"Maximum review length is\", max_review_len)\n",
        "print(\"Average review length is\", avg_review_len)\n",
        "print(\"Median review length is\", median_review_len)"
      ],
      "execution_count": null,
      "outputs": [
        {
          "output_type": "stream",
          "text": [
            "Maximum review length is 9212\n",
            "Average review length is 260.30798524934437\n",
            "Median review length is 182.0\n"
          ],
          "name": "stdout"
        }
      ]
    },
    {
      "cell_type": "code",
      "metadata": {
        "colab": {
          "base_uri": "https://localhost:8080/"
        },
        "id": "uRPK1XnGmbvl",
        "outputId": "32403e29-eba4-4b95-e135-39c4da4df745"
      },
      "source": [
        "# get an idea of the summaries lengths\n",
        "max_summary_len = df_clean.Summary.str.len().max()\n",
        "avg_summary_len = df_clean.Summary.str.len().mean()\n",
        "median_summary_len = df_clean.Summary.str.len().median()\n",
        "\n",
        "print(\"Maximum summary length is\", max_summary_len)\n",
        "print(\"Average summary length is\", avg_summary_len)\n",
        "print(\"Median summary length is\", median_summary_len)"
      ],
      "execution_count": null,
      "outputs": [
        {
          "output_type": "stream",
          "text": [
            "Maximum summary length is 130\n",
            "Average summary length is 22.822138041217432\n",
            "Median summary length is 20.0\n"
          ],
          "name": "stdout"
        }
      ]
    },
    {
      "cell_type": "code",
      "metadata": {
        "trusted": true,
        "id": "ZKD5VOWqFxhC"
      },
      "source": [
        "max_text_len = 30\n",
        "max_summary_len = 10"
      ],
      "execution_count": null,
      "outputs": []
    },
    {
      "cell_type": "markdown",
      "metadata": {
        "id": "HADoNcMgnbo8"
      },
      "source": [
        "## We need  to add start and end tokens for the summary to allow the decoder to work properly"
      ]
    },
    {
      "cell_type": "code",
      "metadata": {
        "trusted": true,
        "id": "EwLUH78CFxhg"
      },
      "source": [
        "df_clean.Summary = df_clean.Summary.apply(lambda x : 'sostok '+ x + ' eostok')"
      ],
      "execution_count": null,
      "outputs": []
    },
    {
      "cell_type": "markdown",
      "metadata": {
        "id": "xaD-bwkunu6j"
      },
      "source": [
        "## We split the dataset into train validation sets with 90% train split and 10% validation split"
      ]
    },
    {
      "cell_type": "code",
      "metadata": {
        "trusted": true,
        "id": "RakakKHcFxhl"
      },
      "source": [
        "x_tr,x_val,y_tr,y_val=train_test_split(np.array(df_clean.Text),np.array(df_clean.Summary),test_size=0.1,random_state=0,shuffle=True) "
      ],
      "execution_count": null,
      "outputs": []
    },
    {
      "cell_type": "markdown",
      "metadata": {
        "id": "UgYSdfqDoOBg"
      },
      "source": [
        "## Now let's tokenize the sentences"
      ]
    },
    {
      "cell_type": "code",
      "metadata": {
        "trusted": true,
        "id": "oRHTgX6hFxhq"
      },
      "source": [
        "#prepare a tokenizer for reviews on training data\n",
        "x_tokenizer = Tokenizer() \n",
        "x_tokenizer.fit_on_texts(list(x_tr))"
      ],
      "execution_count": null,
      "outputs": []
    },
    {
      "cell_type": "markdown",
      "metadata": {
        "id": "uQfKP3sqRxi9"
      },
      "source": [
        "#Summary Tokenizer"
      ]
    },
    {
      "cell_type": "code",
      "metadata": {
        "trusted": true,
        "id": "eRHqyBkBFxiJ"
      },
      "source": [
        "#prepare a tokenizer for summaries on training data\n",
        "y_tokenizer = Tokenizer()   \n",
        "y_tokenizer.fit_on_texts(list(y_tr))"
      ],
      "execution_count": null,
      "outputs": []
    },
    {
      "cell_type": "markdown",
      "metadata": {
        "id": "Lrvsw1ssoTV8"
      },
      "source": [
        "## We set a threhsold of 4 occurences for words to be included in our tokens"
      ]
    },
    {
      "cell_type": "code",
      "metadata": {
        "trusted": true,
        "id": "yzE5OiRLFxiM"
      },
      "source": [
        "thresh=4\n",
        "\n",
        "cnt=0\n",
        "tot_cnt=0\n",
        "freq=0\n",
        "tot_freq=0\n",
        "\n",
        "for key,value in y_tokenizer.word_counts.items():\n",
        "    tot_cnt=tot_cnt+1\n",
        "    tot_freq=tot_freq+value\n",
        "    if(value<thresh):\n",
        "        cnt=cnt+1\n",
        "        freq=freq+value"
      ],
      "execution_count": null,
      "outputs": []
    },
    {
      "cell_type": "markdown",
      "metadata": {
        "id": "GhlOzVpopO8n"
      },
      "source": [
        "## Tokenize only the most occuring words"
      ]
    },
    {
      "cell_type": "code",
      "metadata": {
        "trusted": true,
        "id": "-fswLvIgFxiR"
      },
      "source": [
        "#prepare a tokenizer for reviews on training data\n",
        "y_tokenizer = Tokenizer(num_words=tot_cnt-cnt) \n",
        "y_tokenizer.fit_on_texts(list(y_tr))\n",
        "\n",
        "#convert text sequences into integer sequences\n",
        "y_tr_seq    =   y_tokenizer.texts_to_sequences(y_tr) \n",
        "y_val_seq   =   y_tokenizer.texts_to_sequences(y_val) \n",
        "\n",
        "#padding zero upto maximum length\n",
        "y_tr    =   pad_sequences(y_tr_seq, maxlen=max_summary_len, padding='post')\n",
        "y_val   =   pad_sequences(y_val_seq, maxlen=max_summary_len, padding='post')\n",
        "\n",
        "#size of vocabulary\n",
        "y_voc  =   y_tokenizer.num_words +1"
      ],
      "execution_count": null,
      "outputs": []
    },
    {
      "cell_type": "markdown",
      "metadata": {
        "id": "wOtlDcthFxip"
      },
      "source": [
        "# Model\n",
        "Our model is a sequence to sequence model consisting of an encoder which contains an embedding layer to learn multi dimensional word representations allowing it to understand relation between words. The embedding layer is followed by three LSTM layers that encoder the words embeddings in a representation that the decoder can process properly. The decoder reads the target summary using an embedding layer followed by an LSTM layer. An attention layer allows the decoder to focus its attention on the most relevant words from the review while predicting the next word."
      ]
    },
    {
      "cell_type": "code",
      "metadata": {
        "id": "Z2wymfbyiOWd"
      },
      "source": [
        "import tensorflow as tf\n",
        "import os\n",
        "from tensorflow.python.keras.layers import Layer\n",
        "from tensorflow.python.keras import backend as K\n",
        "\n",
        "\n",
        "class AttentionLayer(Layer):\n",
        "    \"\"\"\n",
        "    This class implements Bahdanau attention (https://arxiv.org/pdf/1409.0473.pdf).\n",
        "    There are three sets of weights introduced W_a, U_a, and V_a\n",
        "     \"\"\"\n",
        "\n",
        "    def __init__(self, **kwargs):\n",
        "        super(AttentionLayer, self).__init__(**kwargs)\n",
        "\n",
        "    def build(self, input_shape):\n",
        "        assert isinstance(input_shape, list)\n",
        "        # Create a trainable weight variable for this layer.\n",
        "\n",
        "        self.W_a = self.add_weight(name='W_a',\n",
        "                                   shape=tf.TensorShape((input_shape[0][2], input_shape[0][2])),\n",
        "                                   initializer='uniform',\n",
        "                                   trainable=True)\n",
        "        self.U_a = self.add_weight(name='U_a',\n",
        "                                   shape=tf.TensorShape((input_shape[1][2], input_shape[0][2])),\n",
        "                                   initializer='uniform',\n",
        "                                   trainable=True)\n",
        "        self.V_a = self.add_weight(name='V_a',\n",
        "                                   shape=tf.TensorShape((input_shape[0][2], 1)),\n",
        "                                   initializer='uniform',\n",
        "                                   trainable=True)\n",
        "\n",
        "        super(AttentionLayer, self).build(input_shape)  # Be sure to call this at the end\n",
        "\n",
        "    def call(self, inputs, verbose=False):\n",
        "        \"\"\"\n",
        "        inputs: [encoder_output_sequence, decoder_output_sequence]\n",
        "        \"\"\"\n",
        "        assert type(inputs) == list\n",
        "        encoder_out_seq, decoder_out_seq = inputs\n",
        "        if verbose:\n",
        "            print('encoder_out_seq>', encoder_out_seq.shape)\n",
        "            print('decoder_out_seq>', decoder_out_seq.shape)\n",
        "\n",
        "        def energy_step(inputs, states):\n",
        "            \"\"\" Step function for computing energy for a single decoder state\n",
        "            inputs: (batchsize * 1 * de_in_dim)\n",
        "            states: (batchsize * 1 * de_latent_dim)\n",
        "            \"\"\"\n",
        "\n",
        "            assert_msg = \"States must be an iterable. Got {} of type {}\".format(states, type(states))\n",
        "            assert isinstance(states, list) or isinstance(states, tuple), assert_msg\n",
        "\n",
        "            \"\"\" Some parameters required for shaping tensors\"\"\"\n",
        "            en_seq_len, en_hidden = encoder_out_seq.shape[1], encoder_out_seq.shape[2]\n",
        "            de_hidden = inputs.shape[-1]\n",
        "\n",
        "            \"\"\" Computing S.Wa where S=[s0, s1, ..., si]\"\"\"\n",
        "            # <= batch size * en_seq_len * latent_dim\n",
        "            W_a_dot_s = K.dot(encoder_out_seq, self.W_a)\n",
        "\n",
        "            \"\"\" Computing hj.Ua \"\"\"\n",
        "            U_a_dot_h = K.expand_dims(K.dot(inputs, self.U_a), 1)  # <= batch_size, 1, latent_dim\n",
        "            if verbose:\n",
        "                print('Ua.h>', U_a_dot_h.shape)\n",
        "\n",
        "            \"\"\" tanh(S.Wa + hj.Ua) \"\"\"\n",
        "            # <= batch_size*en_seq_len, latent_dim\n",
        "            Ws_plus_Uh = K.tanh(W_a_dot_s + U_a_dot_h)\n",
        "            if verbose:\n",
        "                print('Ws+Uh>', Ws_plus_Uh.shape)\n",
        "\n",
        "            \"\"\" softmax(va.tanh(S.Wa + hj.Ua)) \"\"\"\n",
        "            # <= batch_size, en_seq_len\n",
        "            e_i = K.squeeze(K.dot(Ws_plus_Uh, self.V_a), axis=-1)\n",
        "            # <= batch_size, en_seq_len\n",
        "            e_i = K.softmax(e_i)\n",
        "\n",
        "            if verbose:\n",
        "                print('ei>', e_i.shape)\n",
        "\n",
        "            return e_i, [e_i]\n",
        "\n",
        "        def context_step(inputs, states):\n",
        "            \"\"\" Step function for computing ci using ei \"\"\"\n",
        "\n",
        "            assert_msg = \"States must be an iterable. Got {} of type {}\".format(states, type(states))\n",
        "            assert isinstance(states, list) or isinstance(states, tuple), assert_msg\n",
        "\n",
        "            # <= batch_size, hidden_size\n",
        "            c_i = K.sum(encoder_out_seq * K.expand_dims(inputs, -1), axis=1)\n",
        "            if verbose:\n",
        "                print('ci>', c_i.shape)\n",
        "            return c_i, [c_i]\n",
        "\n",
        "        fake_state_c = K.sum(encoder_out_seq, axis=1)\n",
        "        fake_state_e = K.sum(encoder_out_seq, axis=2)  # <= (batch_size, enc_seq_len, latent_dim\n",
        "\n",
        "        \"\"\" Computing energy outputs \"\"\"\n",
        "        # e_outputs => (batch_size, de_seq_len, en_seq_len)\n",
        "        last_out, e_outputs, _ = K.rnn(\n",
        "            energy_step, decoder_out_seq, [fake_state_e],\n",
        "        )\n",
        "\n",
        "        \"\"\" Computing context vectors \"\"\"\n",
        "        last_out, c_outputs, _ = K.rnn(\n",
        "            context_step, e_outputs, [fake_state_c],\n",
        "        )\n",
        "\n",
        "        return c_outputs, e_outputs\n",
        "\n",
        "    def compute_output_shape(self, input_shape):\n",
        "        \"\"\" Outputs produced by the layer \"\"\"\n",
        "        return [\n",
        "            tf.TensorShape((input_shape[1][0], input_shape[1][1], input_shape[1][2])),\n",
        "            tf.TensorShape((input_shape[1][0], input_shape[1][1], input_shape[0][1]))\n",
        "        ]"
      ],
      "execution_count": null,
      "outputs": []
    },
    {
      "cell_type": "code",
      "metadata": {
        "trusted": true,
        "id": "zXef38nBFxir",
        "colab": {
          "base_uri": "https://localhost:8080/"
        },
        "outputId": "12fab1e3-e886-4ee5-8dc6-4bae41bd444e"
      },
      "source": [
        "from keras import backend as K \n",
        "K.clear_session()\n",
        "\n",
        "latent_dim = 300\n",
        "embedding_dim=100\n",
        "\n",
        "# Encoder\n",
        "encoder_inputs = Input(shape=(max_text_len,))\n",
        "\n",
        "#embedding layer\n",
        "enc_emb =  Embedding(x_voc, embedding_dim,trainable=True)(encoder_inputs)\n",
        "\n",
        "#encoder lstm 1\n",
        "encoder_lstm1 = LSTM(latent_dim,return_sequences=True,return_state=True,dropout=0.4)\n",
        "encoder_output1, state_h1, state_c1 = encoder_lstm1(enc_emb)\n",
        "\n",
        "#encoder lstm 2\n",
        "encoder_lstm2 = LSTM(latent_dim,return_sequences=True,return_state=True,dropout=0.4)\n",
        "encoder_output2, state_h2, state_c2 = encoder_lstm2(encoder_output1)\n",
        "\n",
        "#encoder lstm 3\n",
        "encoder_lstm3=LSTM(latent_dim, return_state=True, return_sequences=True,dropout=0.4)\n",
        "encoder_outputs, state_h, state_c= encoder_lstm3(encoder_output2)\n",
        "\n",
        "# Set up the decoder, using `encoder_states` as initial state.\n",
        "decoder_inputs = Input(shape=(None,))\n",
        "\n",
        "#embedding layer\n",
        "dec_emb_layer = Embedding(y_voc, embedding_dim,trainable=True)\n",
        "dec_emb = dec_emb_layer(decoder_inputs)\n",
        "\n",
        "decoder_outputs,decoder_fwd_state, decoder_back_state = decoder_lstm(dec_emb,initial_state=[state_h, state_c])\n",
        "\n",
        "# Attention layer\n",
        "attn_layer = AttentionLayer(name='attention_layer')\n",
        "attn_out, attn_states = attn_layer([encoder_outputs, decoder_outputs])\n",
        "\n",
        "# Concat attention input and decoder LSTM output\n",
        "decoder_concat_input = Concatenate(axis=-1, name='concat_layer')([decoder_outputs, attn_out])\n",
        "\n",
        "#dense layer\n",
        "decoder_dense =  TimeDistributed(Dense(y_voc, activation='softmax'))\n",
        "decoder_outputs = decoder_dense(decoder_concat_input)\n",
        "\n",
        "# Define the model \n",
        "model = Model([encoder_inputs, decoder_inputs], decoder_outputs)\n",
        "\n",
        "model.summary() "
      ],
      "execution_count": null,
      "outputs": [
        {
          "output_type": "stream",
          "text": [
            "Model: \"model\"\n",
            "__________________________________________________________________________________________________\n",
            "Layer (type)                    Output Shape         Param #     Connected to                     \n",
            "==================================================================================================\n",
            "input_34 (InputLayer)           [(None, 100)]        0                                            \n",
            "__________________________________________________________________________________________________\n",
            "embedding (Embedding)           (None, 100, 100)     1258300     input_34[0][0]                   \n",
            "__________________________________________________________________________________________________\n",
            "lstm (LSTM)                     [(None, 100, 300), ( 481200      embedding[0][0]                  \n",
            "__________________________________________________________________________________________________\n",
            "input_35 (InputLayer)           [(None, None)]       0                                            \n",
            "__________________________________________________________________________________________________\n",
            "lstm_1 (LSTM)                   [(None, 100, 300), ( 721200      lstm[0][0]                       \n",
            "__________________________________________________________________________________________________\n",
            "embedding_1 (Embedding)         (None, None, 100)    269800      input_35[0][0]                   \n",
            "__________________________________________________________________________________________________\n",
            "lstm_2 (LSTM)                   [(None, 100, 300), ( 721200      lstm_1[0][0]                     \n",
            "__________________________________________________________________________________________________\n",
            "lstm_3 (LSTM)                   [(None, None, 300),  481200      embedding_1[0][0]                \n",
            "                                                                 lstm_2[0][1]                     \n",
            "                                                                 lstm_2[0][2]                     \n",
            "__________________________________________________________________________________________________\n",
            "attention_layer (AttentionLayer ((None, None, 300),  180300      lstm_2[0][0]                     \n",
            "                                                                 lstm_3[5][0]                     \n",
            "__________________________________________________________________________________________________\n",
            "concat_layer (Concatenate)      (None, None, 600)    0           lstm_3[5][0]                     \n",
            "                                                                 attention_layer[0][0]            \n",
            "__________________________________________________________________________________________________\n",
            "time_distributed (TimeDistribut (None, None, 2698)   1621498     concat_layer[0][0]               \n",
            "==================================================================================================\n",
            "Total params: 5,734,698\n",
            "Trainable params: 5,734,698\n",
            "Non-trainable params: 0\n",
            "__________________________________________________________________________________________________\n"
          ],
          "name": "stdout"
        }
      ]
    },
    {
      "cell_type": "markdown",
      "metadata": {
        "id": "0ZVlfRuMUcoP"
      },
      "source": [
        "I am using sparse categorical cross-entropy as the loss function since it converts the integer sequence to a one-hot vector on the fly. This overcomes any memory issues."
      ]
    },
    {
      "cell_type": "code",
      "metadata": {
        "colab": {
          "base_uri": "https://localhost:8080/",
          "height": 856
        },
        "id": "cBv0ag_VuYUt",
        "outputId": "e183f964-ac37-4e95-9c13-23abf1e2a863"
      },
      "source": [
        "tf.keras.utils.plot_model(model)"
      ],
      "execution_count": null,
      "outputs": [
        {
          "output_type": "execute_result",
          "data": {
            "image/png": "[encoded data removed]",
            "text/plain": [
              "<IPython.core.display.Image object>"
            ]
          },
          "metadata": {
            "tags": []
          },
          "execution_count": 304
        }
      ]
    },
    {
      "cell_type": "code",
      "metadata": {
        "trusted": true,
        "id": "Lwfi1Fm8Fxiz"
      },
      "source": [
        "model.compile(optimizer='rmsprop', loss='sparse_categorical_crossentropy')"
      ],
      "execution_count": null,
      "outputs": []
    },
    {
      "cell_type": "markdown",
      "metadata": {
        "id": "p0ykDbxfUhyw"
      },
      "source": [
        "Remember the concept of early stopping? It is used to stop training the neural network at the right time by monitoring a user-specified metric. Here, I am monitoring the validation loss (val_loss). Our model will stop training once the validation loss increases:\n"
      ]
    },
    {
      "cell_type": "code",
      "metadata": {
        "id": "s-A3J92MUljB"
      },
      "source": [
        "es = EarlyStopping(monitor='val_loss', mode='min', verbose=1,patience=5)"
      ],
      "execution_count": null,
      "outputs": []
    },
    {
      "cell_type": "markdown",
      "metadata": {
        "id": "Mw6CVECaUq5b"
      },
      "source": [
        "We’ll train the model on a batch size of 128 and validate it on the holdout set (which is 10% of our dataset):"
      ]
    },
    {
      "cell_type": "code",
      "metadata": {
        "trusted": true,
        "id": "ETnPzA4OFxi3",
        "colab": {
          "base_uri": "https://localhost:8080/"
        },
        "outputId": "0f72bbf7-8d13-4914-cc45-2b44030b0cb8"
      },
      "source": [
        "history=model.fit([x_tr,y_tr[:,:-1]], y_tr.reshape(y_tr.shape[0],y_tr.shape[1], 1)[:,1:] ,callbacks=[es], epochs=50,batch_size=128, validation_data=([x_val,y_val[:,:-1]], y_val.reshape(y_val.shape[0],y_val.shape[1], 1)[:,1:]))"
      ],
      "execution_count": null,
      "outputs": [
        {
          "output_type": "stream",
          "text": [
            "Epoch 1/50\n",
            "472/472 [==============================] - 68s 130ms/step - loss: 2.4397 - val_loss: 2.1608\n",
            "Epoch 2/50\n",
            "472/472 [==============================] - 59s 125ms/step - loss: 2.1219 - val_loss: 2.0263\n",
            "Epoch 3/50\n",
            "472/472 [==============================] - 58s 124ms/step - loss: 2.0027 - val_loss: 1.9564\n",
            "Epoch 4/50\n",
            "472/472 [==============================] - 58s 124ms/step - loss: 1.9291 - val_loss: 1.9091\n",
            "Epoch 5/50\n",
            "472/472 [==============================] - 58s 124ms/step - loss: 1.8746 - val_loss: 1.8797\n",
            "Epoch 6/50\n",
            "472/472 [==============================] - 58s 124ms/step - loss: 1.8306 - val_loss: 1.8587\n",
            "Epoch 7/50\n",
            "472/472 [==============================] - 59s 124ms/step - loss: 1.7939 - val_loss: 1.8393\n",
            "Epoch 8/50\n",
            "472/472 [==============================] - 58s 123ms/step - loss: 1.7593 - val_loss: 1.8264\n",
            "Epoch 9/50\n",
            "472/472 [==============================] - 58s 123ms/step - loss: 1.7300 - val_loss: 1.8160\n",
            "Epoch 10/50\n",
            "472/472 [==============================] - 58s 123ms/step - loss: 1.7049 - val_loss: 1.8140\n",
            "Epoch 11/50\n",
            "472/472 [==============================] - 58s 123ms/step - loss: 1.6802 - val_loss: 1.8076\n",
            "Epoch 12/50\n",
            "472/472 [==============================] - 58s 123ms/step - loss: 1.6586 - val_loss: 1.8020\n",
            "Epoch 13/50\n",
            "472/472 [==============================] - 58s 123ms/step - loss: 1.6378 - val_loss: 1.7987\n",
            "Epoch 14/50\n",
            "472/472 [==============================] - 58s 123ms/step - loss: 1.6188 - val_loss: 1.7996\n",
            "Epoch 15/50\n",
            "472/472 [==============================] - 58s 124ms/step - loss: 1.6006 - val_loss: 1.7984\n",
            "Epoch 16/50\n",
            "472/472 [==============================] - 58s 124ms/step - loss: 1.5837 - val_loss: 1.8002\n",
            "Epoch 17/50\n",
            "472/472 [==============================] - 58s 124ms/step - loss: 1.5672 - val_loss: 1.7967\n",
            "Epoch 18/50\n",
            "472/472 [==============================] - 58s 124ms/step - loss: 1.5503 - val_loss: 1.7999\n",
            "Epoch 19/50\n",
            "472/472 [==============================] - 58s 123ms/step - loss: 1.5352 - val_loss: 1.8013\n",
            "Epoch 20/50\n",
            "472/472 [==============================] - 58s 124ms/step - loss: 1.5202 - val_loss: 1.8009\n",
            "Epoch 21/50\n",
            "472/472 [==============================] - 58s 124ms/step - loss: 1.5058 - val_loss: 1.8087\n",
            "Epoch 22/50\n",
            "472/472 [==============================] - 58s 124ms/step - loss: 1.4931 - val_loss: 1.8111\n",
            "Epoch 00022: early stopping\n"
          ],
          "name": "stdout"
        }
      ]
    },
    {
      "cell_type": "code",
      "metadata": {
        "trusted": true,
        "id": "tDTNLAURFxjE",
        "colab": {
          "base_uri": "https://localhost:8080/",
          "height": 265
        },
        "outputId": "ed78aaeb-6d96-4ef0-ce39-06eede5c6e95"
      },
      "source": [
        "from matplotlib import pyplot\n",
        "pyplot.plot(history.history['loss'], label='train')\n",
        "pyplot.plot(history.history['val_loss'], label='val')\n",
        "pyplot.legend()\n",
        "pyplot.show()"
      ],
      "execution_count": null,
      "outputs": [
        {
          "output_type": "display_data",
          "data": {
            "image/png": "[encoded data removed]",
            "text/plain": [
              "<Figure size 432x288 with 1 Axes>"
            ]
          },
          "metadata": {
            "tags": [],
            "needs_background": "light"
          }
        }
      ]
    },
    {
      "cell_type": "code",
      "metadata": {
        "trusted": true,
        "id": "sBX0zZnOFxjW"
      },
      "source": [
        "reverse_target_word_index=y_tokenizer.index_word\n",
        "reverse_source_word_index=x_tokenizer.index_word\n",
        "target_word_index=y_tokenizer.word_index"
      ],
      "execution_count": null,
      "outputs": []
    },
    {
      "cell_type": "markdown",
      "metadata": {
        "id": "eM_nU_VvFxjq"
      },
      "source": [
        "# Inference\n",
        "\n",
        "Set up the inference for the encoder and decoder:"
      ]
    },
    {
      "cell_type": "code",
      "metadata": {
        "trusted": true,
        "id": "9QkrNV-4Fxjt"
      },
      "source": [
        "# Encode the input sequence to get the feature vector\n",
        "encoder_model = Model(inputs=encoder_inputs,outputs=[encoder_outputs, state_h, state_c])\n",
        "\n",
        "# Decoder setup\n",
        "# Below tensors will hold the states of the previous time step\n",
        "decoder_state_input_h = Input(shape=(latent_dim,))\n",
        "decoder_state_input_c = Input(shape=(latent_dim,))\n",
        "decoder_hidden_state_input = Input(shape=(max_text_len,latent_dim))\n",
        "\n",
        "# Get the embeddings of the decoder sequence\n",
        "dec_emb2= dec_emb_layer(decoder_inputs) \n",
        "# To predict the next word in the sequence, set the initial states to the states from the previous time step\n",
        "decoder_outputs2, state_h2, state_c2 = decoder_lstm(dec_emb2, initial_state=[decoder_state_input_h, decoder_state_input_c])\n",
        "\n",
        "#attention inference\n",
        "attn_out_inf, attn_states_inf = attn_layer([decoder_hidden_state_input, decoder_outputs2])\n",
        "decoder_inf_concat = Concatenate(axis=-1, name='concat')([decoder_outputs2, attn_out_inf])\n",
        "\n",
        "# A dense softmax layer to generate prob dist. over the target vocabulary\n",
        "decoder_outputs2 = decoder_dense(decoder_inf_concat) \n",
        "\n",
        "# Final decoder model\n",
        "decoder_model = Model(\n",
        "    [decoder_inputs] + [decoder_hidden_state_input,decoder_state_input_h, decoder_state_input_c],\n",
        "    [decoder_outputs2] + [state_h2, state_c2])"
      ],
      "execution_count": null,
      "outputs": []
    },
    {
      "cell_type": "code",
      "metadata": {
        "trusted": true,
        "id": "6f6TTFnBFxj6"
      },
      "source": [
        "def decode_sequence(input_seq):\n",
        "    # Encode the input as state vectors.\n",
        "    e_out, e_h, e_c = encoder_model.predict(input_seq)\n",
        "    \n",
        "    # Generate empty target sequence of length 1.\n",
        "    target_seq = np.zeros((1,1))\n",
        "    \n",
        "    # Populate the first word of target sequence with the start word.\n",
        "    target_seq[0, 0] = target_word_index['sostok']\n",
        "\n",
        "    stop_condition = False\n",
        "    decoded_sentence = ''\n",
        "    while not stop_condition:\n",
        "      \n",
        "        output_tokens, h, c = decoder_model.predict([target_seq] + [e_out, e_h, e_c])\n",
        "\n",
        "        # Sample a token\n",
        "        sampled_token_index = np.argmax(output_tokens[0, -1, :])\n",
        "        sampled_token = reverse_target_word_index[sampled_token_index]\n",
        "        \n",
        "        if(sampled_token!='eostok'):\n",
        "            decoded_sentence += ' '+sampled_token\n",
        "\n",
        "        # Exit condition: either hit max length or find stop word.\n",
        "        if (sampled_token == 'eostok'  or len(decoded_sentence.split()) >= (max_summary_len-1)):\n",
        "            stop_condition = True\n",
        "\n",
        "        # Update the target sequence (of length 1).\n",
        "        target_seq = np.zeros((1,1))\n",
        "        target_seq[0, 0] = sampled_token_index\n",
        "\n",
        "        # Update internal states\n",
        "        e_h, e_c = h, c\n",
        "\n",
        "    return decoded_sentence"
      ],
      "execution_count": null,
      "outputs": []
    },
    {
      "cell_type": "code",
      "metadata": {
        "trusted": true,
        "id": "aAUntznIFxj9"
      },
      "source": [
        "def seq2summary(input_seq):\n",
        "    newString=''\n",
        "    for i in input_seq:\n",
        "        if((i!=0 and i!=target_word_index['sostok']) and i!=target_word_index['eostok']):\n",
        "            newString=newString+reverse_target_word_index[i]+' '\n",
        "    return newString\n",
        "\n",
        "def seq2text(input_seq):\n",
        "    newString=''\n",
        "    for i in input_seq:\n",
        "        if(i!=0):\n",
        "            newString=newString+reverse_source_word_index[i]+' '\n",
        "    return newString"
      ],
      "execution_count": null,
      "outputs": []
    },
    {
      "cell_type": "code",
      "metadata": {
        "colab": {
          "base_uri": "https://localhost:8080/"
        },
        "id": "HN8O9olp_hPq",
        "outputId": "08cd7bbd-1279-40d2-fa49-57178ad322a4"
      },
      "source": [
        "from rouge_score import rouge_scorer\n",
        "\n",
        "total_score = 0\n",
        "scorer = rouge_scorer.RougeScorer(['rouge1' ], use_stemmer=True)\n",
        "rand_len = 500\n",
        "ind = np.random.choice(len(y_val), rand_len, replace=False)\n",
        "for i in ind: \n",
        "    score = scorer.score(\n",
        "                seq2summary(y_val[i]), \n",
        "                decode_sequence(x_val[i].reshape(1,max_text_len))\n",
        "              )\n",
        "    total_score += score['rouge1'].fmeasure\n",
        "\n",
        "print('Average rouge-1 on {} random samples = {}%'.format(rand_len, total_score*100/rand_len))"
      ],
      "execution_count": null,
      "outputs": [
        {
          "output_type": "stream",
          "text": [
            "Average rouge-1 on 500 random samples = 15.85642468642469%\n"
          ],
          "name": "stdout"
        }
      ]
    },
    {
      "cell_type": "markdown",
      "metadata": {
        "id": "9gM4ALyfWwA9"
      },
      "source": [
        "Here are a few summaries generated by the model:"
      ]
    },
    {
      "cell_type": "code",
      "metadata": {
        "trusted": true,
        "id": "BUtQmQTmFxkI",
        "colab": {
          "base_uri": "https://localhost:8080/"
        },
        "outputId": "9e04db54-855d-43ba-cc56-dcb689a2b48c"
      },
      "source": [
        "for i in range(0,100):\n",
        "    print(\"Review:\",seq2text(x_val[i]))\n",
        "    print(\"Original summary:\",seq2summary(y_val[i]))\n",
        "    print(\"Predicted summary:\",decode_sequence(x_val[i].reshape(1,max_text_len)))\n",
        "    print(\"\\n\")"
      ],
      "execution_count": null,
      "outputs": [
        {
          "output_type": "stream",
          "text": [
            "Review: cannot find the oz container of equal in the grocery stores so purchased it on amazon which is easy and it is delivered right to my door \n",
            "Original summary: equal large size \n",
            "Predicted summary:  great price\n",
            "\n",
            "\n",
            "Review: while wild ride beef jerky cowboy strips do have good hickory taste and are very tender they are also fairly salty and leave lot of gristle in your mouth also like that it does not have msg but am disapointed that meat likely comes from outside the usa on taste alone my family is split on this jerky with of us liking it and two of us not we all like wild bill hickory smoked jerky ounce package will not likely buy this brand again even if it is on sale \n",
            "Original summary: good tasting and tender but \n",
            "Predicted summary:  not the best\n",
            "\n",
            "\n",
            "Review: this rice is very tasty and wholesome used to get it locally but the grocery stores have stopped carrying it thankfully it is still available online \n",
            "Original summary: excellent rice \n",
            "Predicted summary:  rice\n",
            "\n",
            "\n",
            "Review: must admit like them and they are healthy alternative to candy bar but at about each for very small light bar they are too expensive for most honey nuts and few pieces of dried fruit should not cost that much competitor may come along hopefully with better value \n",
            "Original summary: great but way overpriced for the size and ingredients \n",
            "Predicted summary:  not for me\n",
            "\n",
            "\n",
            "Review: absolutely love this dip simple as made with pretzels however when went on diet it got stuck in the back of my pantry until discovered that using cups of fat free greek yogurt produces delicious low calorie substitute for the mayo and sour cream that the box calls for so now my favorite pretzel and veggie dip is back on the of my snacking \n",
            "Original summary: my favorite \n",
            "Predicted summary:  best instant coffee ever\n",
            "\n",
            "\n",
            "Review: these treats are gummy and if you have long haired dog the yam gets all up in their fur and then the dog needs bath do not recommend these treats for any dog with long hair very messy \n",
            "Original summary: treats \n",
            "Predicted summary:  my dog loves these\n",
            "\n",
            "\n",
            "Review: bought this box of crackers for party at home but when opened it most of the crackers in the box were broken other reviewers seems to be getting only broken but mine was more like broken definitely not for serving now if you are not buying it for serving and just for your own munching would definitely give it at least stars great crunchy taste and the sea salt is just heavenly \n",
            "Original summary: wonderful taste but mostly broken crackers \n",
            "Predicted summary:  not as good as the store\n",
            "\n",
            "\n",
            "Review: can see why plenty of people will think this is the best coffee ever it is some of the smoothest least bitter coffee have ever tasted the aroma is also delicious opening the bag and taking whiff right away is must if you want to try this but am the type of coffee drinker who loves it black so need coffee with rich flavour on its own do not bitterness but love coffee with kick to it call it too mild but that is kind of it it is worth try to make up your own mind though \n",
            "Original summary: smooth but no bite \n",
            "Predicted summary:  best coffee ever\n",
            "\n",
            "\n",
            "Review: my dog is of every toy buy her so was looking for something that could keep her attention and something she could not easily destroy thankfully found this my dog loves it and it keeps her entertained for hours use cheerio instead of dog treats think its healthier snack and its cheaper would definatly recommend this toy for any dog \n",
            "Original summary: great product \n",
            "Predicted summary:  great for my dog\n",
            "\n",
            "\n",
            "Review: we were given keurig for wedding present along with several variety packs so far wolfgang puck jamaica me crazy is our favorite and we will definitely be repeat buyers of this flavor \n",
            "Original summary: our favorite cup yet \n",
            "Predicted summary:  great coffee\n",
            "\n",
            "\n",
            "Review: ordered cases on different dates and got them within days cant find these in the stores so please keep them in stock make for great meal with some veggies or salad and this type of fish with omega is good for you \n",
            "Original summary: taste great and good for you \n",
            "Predicted summary:  great for quick lunch\n",
            "\n",
            "\n",
            "Review: smart bran by nature path delivers 51 of the rda for fiber what great jump start to your day would not eat this cereal even with the fiber advantage if it did not taste so good in fact would eat it even if it did not have 13 grams of fiber per serving \n",
            "Original summary: outstanding source of fiber great tasting too \n",
            "Predicted summary:  not as good as the cereal\n",
            "\n",
            "\n",
            "Review: great product and priced well we have ordered this several times over the past few years and really like their walnut oil packaged well and ships on time will keep ordering this product from the same seller \n",
            "Original summary: good price great product \n",
            "Predicted summary:  great product\n",
            "\n",
            "\n",
            "Review: am big fan of the newman own products and especially the organics line and decent fan of dark chocolate as well but would have liked this bar more if the cocoa content was higher than 54 found the taste to be comparable to some other 65 cocoa bars the bar size is approximately thick and easily divided into sections good tasting overall \n",
            "Original summary: newman own organics dark chocolate bar \n",
            "Predicted summary:  good chocolate\n",
            "\n",
            "\n",
            "Review: can highly recommend this hibiscus tea from davidson it is wonderful it is very large quantity too an excellent buy \n",
            "Original summary: davidson hibiscus tea delightful \n",
            "Predicted summary:  great tea\n",
            "\n",
            "\n",
            "Review: tea was well packaged and it arrived promptly the flavor of the hibiscus tea was delicious whether hot or iced \n",
            "Original summary: outstanding flavor \n",
            "Predicted summary:  great tea\n",
            "\n",
            "\n",
            "Review: they were probably really good the ants thought so anyway the ants got to them before we could do not know if the ants got there from wherever they were shipped or from sitting on my porch \n",
            "Original summary: got to them before we did \n",
            "Predicted summary:  good but not as good as\n",
            "\n",
            "\n",
            "Review: this is wonderful kit they ferment out quickly use excellent ingredients and they have the added benefit of labels and foil seals best part they taste good too they are medium body and are quite good \n",
            "Original summary: excellent \n",
            "Predicted summary:  love this stuff\n",
            "\n",
            "\n",
            "Review: bought these in bulk so had no choice but to try them for quite while before giving up just noted that agreed with review of ms they are loaded processed peanut and cocoa butter fats which cannot be good did not lose any weight but gained it was not until switched to rice protein drink that lost and know it was the bars because did not make any other changes but to substitute the bars for the rice drinks also tried all the flavors but none tastes good will not be making any more orders of these bars \n",
            "Original summary: taste terrible and did not help me lose weight \n",
            "Predicted summary:  not as good as\n",
            "\n",
            "\n",
            "Review: just what was looking for and at way better price than my local health food store thanks \n",
            "Original summary: good stuff \n",
            "Predicted summary:  great product\n",
            "\n",
            "\n",
            "Review: have been buying this product for over year and max would eat it as fast as could give it to him however one or two drops at time for reward is his limit yogurt is his favorite \n",
            "Original summary: my dog eats this stuff up \n",
            "Predicted summary:  great treat\n",
            "\n",
            "\n",
            "Review: am hooked on this wonderful gum reminds of the gum when was kid cannot find just plain good old fashioned chewing gum without lot of preservatives is all organic and it tastes great shout for when you chew it \n",
            "Original summary: gum is great \n",
            "Predicted summary:  love this gum\n",
            "\n",
            "\n",
            "Review: this is nice selection of decent quality teas it was little heavy on chai varieties for my taste but loved all of the other flavors \n",
            "Original summary: nice selection \n",
            "Predicted summary:  great tea\n",
            "\n",
            "\n",
            "Review: love everything else from this company but these taste horrible dry fishy bitter cannot taste any cheese flavor my daughter will not touch them \n",
            "Original summary: horrible tasting \n",
            "Predicted summary:  horrible\n",
            "\n",
            "\n",
            "Review: good stuff no matter how tired am or how much sleep did not get this gives me an extra boost for the gym \n",
            "Original summary: good stuff \n",
            "Predicted summary:  it works\n",
            "\n",
            "\n",
            "Review: there was absolutly no scent or flavor to this when brought home truffles from in italy they were wonderful and cost less these were worthless \n",
            "Original summary: what truffle \n",
            "Predicted summary:  great product\n",
            "\n",
            "\n",
            "Review: the houses were good plenty of candy and the kids were happy but one of the four ordered arrived broken too broken to fix up with frosting \n",
            "Original summary: good but one out of four broken \n",
            "Predicted summary:  good candy but\n",
            "\n",
            "\n",
            "Review: my cat will eat it and will use it in pinch when am out of wellness canned cat food wish it came in fish only flavor also all the fruits and vegetables my cat gets when eating the wellness brand \n",
            "Original summary: ok \n",
            "Predicted summary:  cat food\n",
            "\n",
            "\n",
            "Review: find it really hard to believe this is gf because it tastes better than any gf product have ever had made waffles with it this morning and did not even want butter or syrup it was that amazing want proof that this truly gf \n",
            "Original summary: no way \n",
            "Predicted summary:  best gluten free pasta\n",
            "\n",
            "\n",
            "Review: ordered this initially just to try something less expensive than the whirly pop brands was really glad did and will continue to buy it everyone loves it and it is the perfect thing for the whirly pop popper buying it on subscription is the best way to go decreases the price and eliminates shipping charges this is keeper \n",
            "Original summary: best popcorn best price by subscription \n",
            "Predicted summary:  great popcorn\n",
            "\n",
            "\n",
            "Review: ordered these for my family to break our fasting during at our meal having much difficulty trying to find quality delicious dates in my local markets to my great surprise and delight these were terrific will need more to continue to eat thru the year \n",
            "Original summary: delicious \n",
            "Predicted summary:  great for quick lunch\n",
            "\n",
            "\n",
            "Review: applied this rub onto pork shoulder and let it sit overnight in the fridge smoked it for hours the next day and the meat turned out fabulously the rub gave definite spice to the shoulder but found it heavy on the paprika and somewhat sour with an after taste the ingredients were very straightforward and pretty much what you find in almost all of the rub recipes online but think would prefer little sweetness to complement the meat next time will try mixing my own spices but it would be to have everything pre mixed \n",
            "Original summary: leaves an after taste \n",
            "Predicted summary:  not for me\n",
            "\n",
            "\n",
            "Review: drink celsius every before workout it tastes great and feel great never jittery like other drinks make me feel thanks for the awesome price and the autoship always have some on hand \n",
            "Original summary: love \n",
            "Predicted summary:  great\n",
            "\n",
            "\n",
            "Review: bought this for my niece with new rice cooker she says the rice is wonderful after all the cheap rice she has eaten in the last few years agree this works well in rice and is good quality rice bought one container at higher price at the local store and loved it the is good in the rice cooker steamer tray \n",
            "Original summary: nice rice \n",
            "Predicted summary:  great rice\n",
            "\n",
            "\n",
            "Review: read that the pink sea salt is the healthiest to use that may be true but like the flavor of this product and prefer the fine ground because believe use bit less salt due to the fine texture am happy customer \n",
            "Original summary: best salt \n",
            "Predicted summary:  good but not the best\n",
            "\n",
            "\n",
            "Review: you need to wait for some time to get the cereal soaked in the milk and then it would taste awesome overall one of my favorites \n",
            "Original summary: like it \n",
            "Predicted summary:  great cereal\n",
            "\n",
            "\n",
            "Review: took us couple days for my dog to figure it out but now that he has it helps keep him busy on these very cold montana days \n",
            "Original summary: great busy toy \n",
            "Predicted summary:  not for large dogs\n",
            "\n",
            "\n",
            "Review: if people would read the ingredients they would be less critical of the end product only tried them as pancakes and they themselves most excellently used an erythritol instead of sugar and they great and cooked very well did not even use blender to mix \n",
            "Original summary: wonderful blend of and brown rice flour \n",
            "Predicted summary:  sugar\n",
            "\n",
            "\n",
            "Review: my dog who is an extremely picky eater just loves these and its great that they are healthy and natural \n",
            "Original summary: love em \n",
            "Predicted summary:  my dog loves these\n",
            "\n",
            "\n",
            "Review: have tried so many coconut waters most range from good to absolutely undrinkable this zico with passion fruit is my favorite and seriously helped my through some horrendous morning sickness it tastes fresh and crisp with no off flavors or aftertaste would put the 11 ounces on ice with bit of chilled water in huge cup and sip it all day adding more water as the day went on until was just drinking water if tried drinking plain water would immediately so this was great help also nice to get some electrolytes to help with dehydration \n",
            "Original summary: favorite flavored coconut water \n",
            "Predicted summary:  great taste\n",
            "\n",
            "\n",
            "Review: just as would expect form sipping chocolate this came out chocolatey without the extra really liked it the is super fine which can be pain to work with when you are trying not to make mess the end result is tasty tho just stir thoroughly recommend following the oz directions for rich drink even tried this with soy would buy again but wish it was less pricey \n",
            "Original summary: rich and chocolatey \n",
            "Predicted summary:  not the best\n",
            "\n",
            "\n",
            "Review: got two teas and one type of iced coffe and the rest were holiday coffees and apple cider spicy eggnog gingerbread bait and the only redeeming factor amazon was great and issued me refund \n",
            "Original summary: not what ordered \n",
            "Predicted summary:  good tea but\n",
            "\n",
            "\n",
            "Review: my first box came with some of the packets opened and they were all sticky contacted you and the recieved another box free they were packed much better and arrived intact thank you so much we love these \n",
            "Original summary: great and \n",
            "Predicted summary:  great service\n",
            "\n",
            "\n",
            "Review: this cocoa makes an awesome old fashioned stovetop cooked hot cocoa it is delicious also makes incredibly yummy brownies think anything made with this brand of cocoa would have to be fantastic \n",
            "Original summary: the best cocoa for hot cocoa \n",
            "Predicted summary:  best cocoa\n",
            "\n",
            "\n",
            "Review: excellent energy drink drink one day before go for my daily walk gives me nice boost like the taste may take few too get used to it no jitters just boost \n",
            "Original summary: sooo glad found this \n",
            "Predicted summary:  great product\n",
            "\n",
            "\n",
            "Review: this cereal is good and will get you full and it is best mixed with lighter cereal otherwise it is too hearty and heavy \n",
            "Original summary: good and hearty cereal \n",
            "Predicted summary:  great cereal\n",
            "\n",
            "\n",
            "Review: was recently told needed to reduce salt for health reasons and was so to get the table tasty and try it there is dash of mixture of vegetable taste however no salt taste was very dissappointed \n",
            "Original summary: no salty taste \n",
            "Predicted summary:  not as good as the store\n",
            "\n",
            "\n",
            "Review: this is one of our favorite soup mix but unfortunately it is becoming very hard to find in the grocery stores great price fast \n",
            "Original summary: love this soup mix \n",
            "Predicted summary:  soup\n",
            "\n",
            "\n",
            "Review: like the taste of chocolate and mint it mixed well when added hot water next might try warm milk \n",
            "Original summary: hot cocoa \n",
            "Predicted summary:  good chocolate\n",
            "\n",
            "\n",
            "Review: have tried many many varieties of jerky over the years had never heard of world kitchens jerky until started shopping on amazon since then have tried couple of their varieties as well as many varieties of the other more well known companies would rank this world kitchens old fashioned jerky near the top of the list it is very tender very flavorful and not too salty highly recommend this jerky \n",
            "Original summary: much better than \n",
            "Predicted summary:  great jerky\n",
            "\n",
            "\n",
            "Review: these are inexpensive rawhide bones they were of decent quality up until the last batch bought the centers do not seem to be made with rolled rawhide any longer but they seem to be tube filled with rawhide now will not buy any longer unfortunately they used to be great buy \n",
            "Original summary: used to be better quality \n",
            "Predicted summary:  great value\n",
            "\n",
            "\n",
            "Review: for mother day surprised my wife with great northern popcorn machine and case of the great northern popcorn tri pack the machine works flawlessly and the popcorn was absolutely delicious at about per popping the results could not be better or most cost effective the machine was easy to assemble and adding the pre packaged and pre measured popcorn ingredients was snap delicious homemade popcorn in our theater room is huge hit with the family and friends highly recommend great northern popcorn products reputable company that stands behind its products and delivers \n",
            "Original summary: movie theater popcorn at home \n",
            "Predicted summary:  great popcorn\n",
            "\n",
            "\n",
            "Review: my dogs bark at me every morning until they get their greenie treat they are addicted to them have dogs so it is bit pricey but that is why order from amazon so that can keep up with their addiction we use two different sizes of greenies and the teenie size is good but then they want more than one if give them the size larger then can get away with only one treat per day do not know what they put in these but my dogs are crazy for them \n",
            "Original summary: best treat in the world \n",
            "Predicted summary:  dogs love them\n",
            "\n",
            "\n",
            "Review: wonderful mix it with trader chai mix and teaspoon of trader chocolate powder with heated milk for the best morning drink \n",
            "Original summary: vanilla decaf sugar free chai \n",
            "Predicted summary:  delicious\n",
            "\n",
            "\n",
            "Review: my two house cats airy and our feral cat grey all seem to enjoy the seafood feast flavor as those of you who have cats well know what they enjoy one day they may walk away from another day today review by them gives fancy feast seafood feast five stars \n",
            "Original summary: my cats rate this flavor stars \n",
            "Predicted summary:  cats love it\n",
            "\n",
            "\n",
            "Review: when you think about paying oz bottle for this this is real bargin if you like fish it with butter sprinkle magic on it and grill it quickly never over cook fish you should be able to grill about any fish \n",
            "Original summary: excellent \n",
            "Predicted summary:  best seasoning ever\n",
            "\n",
            "\n",
            "Review: my family have lot of food allergies and nana cookies are always good snack these are by far the best it taste like brownie very yummy even my friends and family that do not have love it have no idea why someone gave it such poor review guess they are able to eat snickers bar and calorie wise it is not that bad heck of lot better then other cookies would totally recomend these my month old loves them and so do and my husband stars \n",
            "Original summary: love love love these cookies \n",
            "Predicted summary:  great for gluten free\n",
            "\n",
            "\n",
            "Review: these are absolutely great strong flavored long lasting it is hard to believe they are sugar free they are about 15 calories per piece which all come individually wrapped and are fat free as well you get approx pieces in the bag know will be ordering these wonderful treats again reminds me of being kid again \n",
            "Original summary: sugar free \n",
            "Predicted summary:  yummy\n",
            "\n",
            "\n",
            "Review: have been on quest for the perfect homemade wings sauce and could not come up with it using different recipes then bought this sauce and bingo great use it with the wing coating it gives the outside of the wings the same kind of texture you get at the real \n",
            "Original summary: great sauce \n",
            "Predicted summary:  the best sauce ever\n",
            "\n",
            "\n",
            "Review: seems like both of my cats like this food liver pieces are sometimes bit too big for the cats but once crush them with spoon my cats rush back and finish up \n",
            "Original summary: good food for cats \n",
            "Predicted summary:  cats love it\n",
            "\n",
            "\n",
            "Review: this is one of our favorite kcups we typically like our coffee little stronger but putting it on the medium water setting the flavor of the coffee we order this on the subscribe and save so this makes the price even more reasonable \n",
            "Original summary: gloria jean toffee coffee from amazon \n",
            "Predicted summary:  great coffee\n",
            "\n",
            "\n",
            "Review: two pounds of awful coffee my goodness even instant coffee tastes better the smell is heavenly but smells can be deceiving who knew if you want the cocoa aftertaste of the real coffee starbucks is your best bet cannot wait try it also ice cold it is out of this world \n",
            "Original summary: it is not \n",
            "Predicted summary:  best coffee ever\n",
            "\n",
            "\n",
            "Review: got really good deal on this coffee when bought it from amazon my husband is hooked on this breakfast blend he will not drink anything else \n",
            "Original summary: you cannot go wrong with starbucks coffee \n",
            "Predicted summary:  coffee\n",
            "\n",
            "\n",
            "Review: was hoping to find green tea with very little caffeine no decaffeinated tea has no caffeine this one however still made me jittery could feel the effects immediately \n",
            "Original summary: not that decaffeinated \n",
            "Predicted summary:  not good\n",
            "\n",
            "\n",
            "Review: it is the best food my cat has loved for long time there is nothing left after put it down and she craves it have very happy cat \n",
            "Original summary: favourite \n",
            "Predicted summary:  great cat food\n",
            "\n",
            "\n",
            "Review: too have been devoted fan of the pepper plant hot pepper sauce for years true it has spicy hot flavor but the hotness never overpowers the wonderful flavor this sauce versatile have used it on beef and chicken even in soups so if you are looking for hearty rich flavored sauce with hotness that will not melt your molars give this one taste you will not be sorry truly exceptional \n",
            "Original summary: excellent the spicy hot flavor never the flavor \n",
            "Predicted summary:  great flavor\n",
            "\n",
            "\n",
            "Review: one of the one liter bottles was damaged at the seam and leaking therefore not safe to consume also these bottles are somewhat short dated compared to what you can buy in the store right now the store expiration dates tend to be around mid 12 whereas these bottles expire jan 12 \n",
            "Original summary: leaking bottle \n",
            "Predicted summary:  not as good as the cans\n",
            "\n",
            "\n",
            "Review: kind plus peanut butter dark chocolate protein gluten free bars are really good they are so good have doubled my monthly order they are better than snickers and certainly better for you have been diagnosed with celiac disease for 18 years and these bars are favorite snack \n",
            "Original summary: delicious and filling \n",
            "Predicted summary:  yummy\n",
            "\n",
            "\n",
            "Review: had really difficult time choking these down it would be great if they made noodle from this and from grain still half the calories and actually edible guess if your desperate and not too picky of an eater these could work for you \n",
            "Original summary: these taste pretty awful \n",
            "Predicted summary:  not as good as the chicken flavors\n",
            "\n",
            "\n",
            "Review: originally purchased this for my kids but they would not drink it they do not know what they are missing because this stuff is great always add scoop to my veggie shakes it gives them nice chocolate flavor without being too sweet \n",
            "Original summary: great in veggie shakes \n",
            "Predicted summary:  great chocolate\n",
            "\n",
            "\n",
            "Review: my two dogs love wellness brand dog food it is expensive but just feel am doing the right thing for them with food think is probably good really meaty food they have begin to turn away from newmans and sure do not trust since the chinese dogfood scare but the various wellness products are the best can do for my little best friends \n",
            "Original summary: pricey but the dogs love it \n",
            "Predicted summary:  great food\n",
            "\n",
            "\n",
            "Review: adopted 12 yo cat from woman who had baby with lung condition she is skinny and will eat very little besides think it is green for cats would never feed this to her if she would eat anything else do not think she is long for this world \n",
            "Original summary: stuff but it is all the cat will eat \n",
            "Predicted summary:  my cat will not eat it\n",
            "\n",
            "\n",
            "Review: per the manufacturer the product is organic and only made from sunflower seeds it tastes very natural and fresh would highly recommend if you like the natural taste of sunflower seeds \n",
            "Original summary: very good organic \n",
            "Predicted summary:  great product\n",
            "\n",
            "\n",
            "Review: actual product was fine but expensive to purchase this way just could not find it locally when needed it company was great to deal with \n",
            "Original summary: salt \n",
            "Predicted summary:  excellent service\n",
            "\n",
            "\n",
            "Review: this product arrived with several of the items damaged in shipping the coffee was very good with robust flavor and slightly acidic because of the poor condition of the coffee when it arrived not all the cups were usable found this coffee was best suited for morning \n",
            "Original summary: good coffee poor shipping \n",
            "Predicted summary:  coffee\n",
            "\n",
            "\n",
            "Review: love black tea vanilla but thought this tea had very artificial smell taste \n",
            "Original summary: strange smell and taste \n",
            "Predicted summary:  great tea\n",
            "\n",
            "\n",
            "Review: all the nuts in this mix tasted really good and saw they were healthy for you but the pricing is way too much for me to buy again \n",
            "Original summary: good product bad pricing \n",
            "Predicted summary:  great product but overpriced\n",
            "\n",
            "\n",
            "Review: pounds of gummi bears wow great deal shared these with my mom and she was very into them and she does not like candy the way do try them out you will not be dissapointed you get soo much for your money love the flavor soo much wish had some now \n",
            "Original summary: yummy \n",
            "Predicted summary:  gummi bears\n",
            "\n",
            "\n",
            "Review: eating biscotti makes me feel as if am in tv commercial they are crunchy tasty and best of all dark chocolaty and you do not feel like your teeth are going to break because they are tender at the same time having that delightful crunch did mention they are about twice the size of regular biscotti now my only problem is whether or not can eat them all before they become stale oh that is why buy that expensive tassimo coffee \n",
            "Original summary: delightful real treat \n",
            "Predicted summary:  it is just what wanted\n",
            "\n",
            "\n",
            "Review: tried bear creek hot and sour soup few years ago and my daughter enjoyed it while shopping few weeks ago decided to buy bag of the darn good chili because it appeared easy to prepare without doubt it was the best dropped some off at my son house and he called to tell me how delicious it was and asked why never prepared it while he was growing up added browned chopped meat and hot pepper next time think will add some frozen corn and turkey sausage and serve it stuffed pepper style what great product \n",
            "Original summary: the best \n",
            "Predicted summary:  best sauce ever\n",
            "\n",
            "\n",
            "Review: this seasoning is by far my family and friends favorite great flavor everytime easy to use and you can adjust how much seasoning you want to use \n",
            "Original summary: favorite seasoning \n",
            "Predicted summary:  best seasoning ever\n",
            "\n",
            "\n",
            "Review: liked the taste and it was not hard to make but the had terrible consistency it was thick and gloppy not at all like smooth sauce made it three times with the same result it is possible am doing something wrong but believe am following the directions to that being said it does taste really good and definitely satisfies cheese craving will continue to use it but probably will not serve it to guests until can figure out the consistency issues \n",
            "Original summary: so so \n",
            "Predicted summary:  not bad\n",
            "\n",
            "\n",
            "Review: just got this shake mix and tried it out this morning yummy blended with frozen banana few strawberries and water it is filling and not too heavy it feels healthy even though it is chocolate it is perfect cannot wait to try the berry too \n",
            "Original summary: yummy \n",
            "Predicted summary:  yummy\n",
            "\n",
            "\n",
            "Review: this is very good dog food and has excellent ingredients all natural and no corn very reasonably priced great value dog seems to like it he eats it up \n",
            "Original summary: good dog food good ingredients \n",
            "Predicted summary:  great dog food\n",
            "\n",
            "\n",
            "Review: this tea is delicious no bitterness and great flavor the only downside is that it is only good for one brewing but the cost was low enough that single brew is acceptable \n",
            "Original summary: no bitterness \n",
            "Predicted summary:  great tea\n",
            "\n",
            "\n",
            "Review: love eating them and they are good for watching tv and looking at movies it is not too sweet like to transfer them to zip lock baggie so they stay fresh so can take my time eating them \n",
            "Original summary: poor taste \n",
            "Predicted summary:  yummy\n",
            "\n",
            "\n",
            "Review: regularly purchase this coffee in orders of so that qualify for free shipping it can take up to days but order early the coffee itself is not dark roast it is medium light roast that gives full flavor without any bitterness for drip coffee fantastic and satisfying \n",
            "Original summary: fantastic coffee at fantastic price \n",
            "Predicted summary:  great coffee\n",
            "\n",
            "\n",
            "Review: this coffee says dark roast extra bold and it isn it is weak and barely beats out cup of folgers \n",
            "Original summary: wolfgang puck sumatra \n",
            "Predicted summary:  weak\n",
            "\n",
            "\n",
            "Review: love really good coffee and in fact go to great lengths to brew the best freshly ground beans purest water coffee maker etc have been extremely happy with virtually all of jeremiah coffees and have number of different beans on hand at all times the breakfast blend is stand out also try this and their you will not be disappointed \n",
            "Original summary: coffees rule \n",
            "Predicted summary:  great coffee\n",
            "\n",
            "\n",
            "Review: these cans are great and the price here is good the cans are so easy to use and this was the most recommended formula for my son have received many shipments and did have problem with one that arrived with some cans broken but amazon replaced them for me at no charge \n",
            "Original summary: easy to use and highly recommended \n",
            "Predicted summary:  great product\n",
            "\n",
            "\n",
            "Review: have tried so many baklava and this is simply the best the only con is that it is very addictive and very fatty \n",
            "Original summary: the best \n",
            "Predicted summary:  best ever\n",
            "\n",
            "\n",
            "Review: ordered these for some family members and they were delicious one person even told me it was the best jerky they would ever had would definitely buy these again they make such wonderful gift for the person who has everything \n",
            "Original summary: review \n",
            "Predicted summary:  great snack\n",
            "\n",
            "\n",
            "Review: thanks so much for providing great variety pack of our favorite organic snacks will recommend to friends order again \n",
            "Original summary: variety pack \n",
            "Predicted summary:  great snack\n",
            "\n",
            "\n",
            "Review: have been using this to cook with for over year never had problem with it love it \n",
            "Original summary: good stuff \n",
            "Predicted summary:  great\n",
            "\n",
            "\n",
            "Review: love the jack link products but this bit on the dry side and not much of bbq taste \n",
            "Original summary: little dry \n",
            "Predicted summary:  not bad but not great\n",
            "\n",
            "\n",
            "Review: ito en is the best green tea in the world no sugar no additives simply delicious refreshing healthy iced green tea \n",
            "Original summary: the best green tea \n",
            "Predicted summary:  best tea ever\n",
            "\n",
            "\n",
            "Review: of all the stuff in the world this hard candy is miracle in taste cannot work out why so many outlets have stopped carrying it but it is worth more than casual glance \n",
            "Original summary: yum \n",
            "Predicted summary:  the best\n",
            "\n",
            "\n",
            "Review: sent these baskets to my two grandkids what did they get worthless piece of junk that could have bought at the dollar store for less than dollar be warned do not buy these at the very least it is false advertising did not want to give it one star but could not the review unless answered the question if could rate it minus stars would although it probably does not even rate that \n",
            "Original summary: very disappointed with amazon \n",
            "Predicted summary:  not as advertised\n",
            "\n",
            "\n",
            "Review: have tried several of the blue diamond jar almonds and the butter toffee almonds are the best they would probably be my favorite almond but they are high carb guess the trick is to only eat few at time we can all do that right agree with the other reviewer who said that the blue diamond almonds in the cans are better than the ones in the jars my favorite are the vinegar salt but the butter toffee almonds are the exception \n",
            "Original summary: butter toffee almonds are sooo good but hi carb \n",
            "Predicted summary:  delicious\n",
            "\n",
            "\n",
            "Review: bought himalayan organic salt twice each time quality was really good and service was fast and courteous will buy it again \n",
            "Original summary: good quality good service \n",
            "Predicted summary:  great product\n",
            "\n",
            "\n"
          ],
          "name": "stdout"
        }
      ]
    }
  ]
}